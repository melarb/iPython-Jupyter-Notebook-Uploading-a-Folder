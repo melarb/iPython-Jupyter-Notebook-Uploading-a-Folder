{
 "cells": [
  {
   "cell_type": "markdown",
   "metadata": {},
   "source": [
    "# iPython Jupyter Notebook: Uploading a Folder"
   ]
  },
  {
   "cell_type": "markdown",
   "metadata": {},
   "source": [
    "1. Make sure the folder is still in .zip format\n",
    "2. Upload the .zip file to your Jupyter Notebook directory (not home path)\n",
    "> My zip file is named `PYNQ_Workshop-master.zip` and was uploaded my `/home/xilinx/jupyter_notebooks` directory.\n",
    "3. Now that the .zip file is uploaded, we want to unzip it. So, in Jupyter Notebook, open a new **terminal session**, and run <br>\n",
    "```! unzip /home/xilinx/jupyter_notebooks/PYNQ_Workshop-master.zip -d /home/xilinx/jupyter_notebooks```"
   ]
  },
  {
   "cell_type": "markdown",
   "metadata": {},
   "source": [
    "Note: The above instructions are a quick and dirty method, under the assumption that: you are uploading the same-named file to the same-named directory path and that Jupyter Notebook is being ran locally on the ZYNQ board. For *Session_1* (Lab One), this should be the case.\n",
    "<br>\n",
    "<br>\n",
    "<br>"
   ]
  },
  {
   "cell_type": "markdown",
   "metadata": {},
   "source": [
    "#### General Instructions:\n",
    "1. Make sure the folder is still in .zip format\n",
    "2. Upload the .zip file to your Jupyter Notebook (assuming home path directory)\n",
    "3. Now that the .zip file is uploaded, we want to unzip it. So, in Jupyter Notebook, open a new **terminal session**, and run <br> `! unzip ~/yourfolder.zip -d ~/`\n",
    "---\n",
    "where:\n",
    "\n",
    "`!` specifies a Unix/OS command\n",
    "\n",
    "`unzip` is the unzipping command\n",
    "\n",
    "`~/yourfolder.zip` tells the command where your .zip folder is currently at. <br>`~/` assumes the .zip is stored in the home path of the directory. For paths other than home, remove the `~`\n",
    "\n",
    "`-d ~/` specifies where you want to put the unzipped folder. It currently assumes you want to put it in the home path of the directory. For paths other than home, remove the `~`\n"
   ]
  },
  {
   "cell_type": "markdown",
   "metadata": {},
   "source": [
    "<p style=\"text-align: center;\">Made with ♥ from Muhammad Elarbi</p>\n",
    "<p style=\"text-align: center;\">elarbi.m@northeastern.edu</p>"
   ]
  }
 ],
 "metadata": {
  "kernelspec": {
   "display_name": "Python 3 (ipykernel)",
   "language": "python",
   "name": "python3"
  },
  "language_info": {
   "codemirror_mode": {
    "name": "ipython",
    "version": 3
   },
   "file_extension": ".py",
   "mimetype": "text/x-python",
   "name": "python",
   "nbconvert_exporter": "python",
   "pygments_lexer": "ipython3",
   "version": "3.9.6"
  }
 },
 "nbformat": 4,
 "nbformat_minor": 2
}
